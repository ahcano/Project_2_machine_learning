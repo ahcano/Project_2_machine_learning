{
 "cells": [
  {
   "cell_type": "code",
   "execution_count": 23,
   "id": "be2d3753-7e94-4875-a22a-b827615f5ff5",
   "metadata": {
    "tags": []
   },
   "outputs": [],
   "source": [
    "# Library Imports\n",
    "import pandas as pd\n",
    "import numpy as np\n",
    "from pathlib import Path\n",
    "import hvplot.pandas\n",
    "import matplotlib.pyplot as plt\n",
    "from sklearn import svm\n",
    "from sklearn.preprocessing import StandardScaler\n",
    "from pandas.tseries.offsets import DateOffset\n",
    "from sklearn.metrics import classification_report"
   ]
  },
  {
   "cell_type": "code",
   "execution_count": 24,
   "id": "c2580ddc-35b1-4b4a-8f07-abbbed9d1496",
   "metadata": {
    "tags": []
   },
   "outputs": [],
   "source": [
    "#ohlcv_df.Date.reset_index().T\n",
    "#ohlcv_df.columns = list(range(len(ohlcv_df.columns)))\n",
    "#ohlcv_df.plot()"
   ]
  },
  {
   "cell_type": "code",
   "execution_count": 37,
   "id": "5da12fe5-3d45-429c-8fec-dbb8f115c570",
   "metadata": {},
   "outputs": [
    {
     "data": {
      "text/html": [
       "<div>\n",
       "<style scoped>\n",
       "    .dataframe tbody tr th:only-of-type {\n",
       "        vertical-align: middle;\n",
       "    }\n",
       "\n",
       "    .dataframe tbody tr th {\n",
       "        vertical-align: top;\n",
       "    }\n",
       "\n",
       "    .dataframe thead th {\n",
       "        text-align: right;\n",
       "    }\n",
       "</style>\n",
       "<table border=\"1\" class=\"dataframe\">\n",
       "  <thead>\n",
       "    <tr style=\"text-align: right;\">\n",
       "      <th></th>\n",
       "      <th>price_indextor</th>\n",
       "      <th>price_index_change</th>\n",
       "      <th>inflation_rate</th>\n",
       "      <th>canadian_prime_rate</th>\n",
       "      <th>cnd_tsx_indx</th>\n",
       "      <th>unemployment_rate</th>\n",
       "      <th>GDP_growth</th>\n",
       "      <th>CND_USD_exchange</th>\n",
       "    </tr>\n",
       "    <tr>\n",
       "      <th>date</th>\n",
       "      <th></th>\n",
       "      <th></th>\n",
       "      <th></th>\n",
       "      <th></th>\n",
       "      <th></th>\n",
       "      <th></th>\n",
       "      <th></th>\n",
       "      <th></th>\n",
       "    </tr>\n",
       "  </thead>\n",
       "  <tbody>\n",
       "    <tr>\n",
       "      <th>2004-10-01</th>\n",
       "      <td>104.9</td>\n",
       "      <td>0.000</td>\n",
       "      <td>0.023</td>\n",
       "      <td>0.043</td>\n",
       "      <td>0.023</td>\n",
       "      <td>0.059</td>\n",
       "      <td>0.065</td>\n",
       "      <td>0.800</td>\n",
       "    </tr>\n",
       "    <tr>\n",
       "      <th>2004-11-01</th>\n",
       "      <td>105.2</td>\n",
       "      <td>0.003</td>\n",
       "      <td>0.024</td>\n",
       "      <td>0.043</td>\n",
       "      <td>0.018</td>\n",
       "      <td>0.059</td>\n",
       "      <td>0.065</td>\n",
       "      <td>0.835</td>\n",
       "    </tr>\n",
       "    <tr>\n",
       "      <th>2004-12-01</th>\n",
       "      <td>105.1</td>\n",
       "      <td>-0.001</td>\n",
       "      <td>0.021</td>\n",
       "      <td>0.043</td>\n",
       "      <td>0.024</td>\n",
       "      <td>0.059</td>\n",
       "      <td>0.065</td>\n",
       "      <td>0.824</td>\n",
       "    </tr>\n",
       "    <tr>\n",
       "      <th>2005-01-01</th>\n",
       "      <td>105.0</td>\n",
       "      <td>-0.001</td>\n",
       "      <td>0.019</td>\n",
       "      <td>0.043</td>\n",
       "      <td>-0.005</td>\n",
       "      <td>0.057</td>\n",
       "      <td>0.064</td>\n",
       "      <td>0.826</td>\n",
       "    </tr>\n",
       "    <tr>\n",
       "      <th>2005-02-01</th>\n",
       "      <td>105.6</td>\n",
       "      <td>0.006</td>\n",
       "      <td>0.021</td>\n",
       "      <td>0.043</td>\n",
       "      <td>0.050</td>\n",
       "      <td>0.057</td>\n",
       "      <td>0.064</td>\n",
       "      <td>0.806</td>\n",
       "    </tr>\n",
       "  </tbody>\n",
       "</table>\n",
       "</div>"
      ],
      "text/plain": [
       "            price_indextor  price_index_change  inflation_rate  \\\n",
       "date                                                             \n",
       "2004-10-01           104.9               0.000           0.023   \n",
       "2004-11-01           105.2               0.003           0.024   \n",
       "2004-12-01           105.1              -0.001           0.021   \n",
       "2005-01-01           105.0              -0.001           0.019   \n",
       "2005-02-01           105.6               0.006           0.021   \n",
       "\n",
       "            canadian_prime_rate  cnd_tsx_indx  unemployment_rate  GDP_growth  \\\n",
       "date                                                                           \n",
       "2004-10-01                0.043         0.023              0.059       0.065   \n",
       "2004-11-01                0.043         0.018              0.059       0.065   \n",
       "2004-12-01                0.043         0.024              0.059       0.065   \n",
       "2005-01-01                0.043        -0.005              0.057       0.064   \n",
       "2005-02-01                0.043         0.050              0.057       0.064   \n",
       "\n",
       "            CND_USD_exchange  \n",
       "date                          \n",
       "2004-10-01             0.800  \n",
       "2004-11-01             0.835  \n",
       "2004-12-01             0.824  \n",
       "2005-01-01             0.826  \n",
       "2005-02-01             0.806  "
      ]
     },
     "execution_count": 37,
     "metadata": {},
     "output_type": "execute_result"
    }
   ],
   "source": [
    "# Import the dataset into a Pandas Dataframe\n",
    "ohlcv_df = pd.read_csv(\n",
    "    Path(r\"C:\\Users\\ana_c\\Documents\\temp\\Starter_Data.csv\"), \n",
    "    index_col='date', \n",
    "    infer_datetime_format=True, \n",
    "    parse_dates=True\n",
    ")\n",
    "\n",
    "# Review the DataFrame\n",
    "ohlcv_df.head()"
   ]
  },
  {
   "cell_type": "code",
   "execution_count": 46,
   "id": "659c3fa6-b0a6-4d66-a527-56b4251efa4c",
   "metadata": {
    "tags": []
   },
   "outputs": [
    {
     "name": "stdout",
     "output_type": "stream",
     "text": [
      "<class 'pandas.core.frame.DataFrame'>\n",
      "DatetimeIndex: 219 entries, 2004-10-01 to 2022-12-01\n",
      "Data columns (total 8 columns):\n",
      " #   Column               Non-Null Count  Dtype  \n",
      "---  ------               --------------  -----  \n",
      " 0   price_indextor       219 non-null    float64\n",
      " 1   price_index_change   219 non-null    float64\n",
      " 2   inflation_rate       219 non-null    float64\n",
      " 3   canadian_prime_rate  219 non-null    float64\n",
      " 4   cnd_tsx_indx         219 non-null    float64\n",
      " 5   unemployment_rate    219 non-null    float64\n",
      " 6   GDP_growth           219 non-null    float64\n",
      " 7   CND_USD_exchange     219 non-null    float64\n",
      "dtypes: float64(8)\n",
      "memory usage: 15.4 KB\n"
     ]
    }
   ],
   "source": [
    "#reading data types\n",
    "ohlcv_df.info()"
   ]
  },
  {
   "cell_type": "code",
   "execution_count": 39,
   "id": "b8f5dcc1-627d-458d-804d-0141a221a746",
   "metadata": {
    "tags": []
   },
   "outputs": [
    {
     "data": {
      "text/plain": [
       "date\n",
       "2004-10-01    0.800000\n",
       "2004-11-01    0.835000\n",
       "2004-12-01    0.824000\n",
       "2005-01-01    0.826000\n",
       "2005-02-01    0.806000\n",
       "                ...   \n",
       "2022-08-01    0.735000\n",
       "2022-09-01    0.745000\n",
       "2022-10-01    0.742994\n",
       "2022-11-01    0.729906\n",
       "2022-12-01    0.739625\n",
       "Name: CND_USD_exchange, Length: 219, dtype: float64"
      ]
     },
     "execution_count": 39,
     "metadata": {},
     "output_type": "execute_result"
    }
   ],
   "source": [
    "# this command is only to validate that the dataframe was readable. It can be removed.\n",
    "ohlcv_df[\"CND_USD_exchange\"]"
   ]
  },
  {
   "cell_type": "code",
   "execution_count": 47,
   "id": "5d4b1e70-8a31-4bb4-95ec-91014bb74426",
   "metadata": {
    "tags": []
   },
   "outputs": [],
   "source": [
    "# Import the StandardScaler from sklearn\n",
    "from sklearn.preprocessing import StandardScaler\n",
    "\n",
    "# Scale the data  #### Need someone to modify/add the columns accordingly############################\n",
    "X_train = ohlcv_df[[\"price_indextor\",\"CND_USD_exchange\"]] \n",
    "scaler = StandardScaler().fit(X_train)\n"
   ]
  },
  {
   "cell_type": "code",
   "execution_count": 48,
   "id": "ef117142-4620-4590-8f84-2325558b8d91",
   "metadata": {
    "tags": []
   },
   "outputs": [
    {
     "data": {
      "text/html": [
       "<div>\n",
       "<style scoped>\n",
       "    .dataframe tbody tr th:only-of-type {\n",
       "        vertical-align: middle;\n",
       "    }\n",
       "\n",
       "    .dataframe tbody tr th {\n",
       "        vertical-align: top;\n",
       "    }\n",
       "\n",
       "    .dataframe thead th {\n",
       "        text-align: right;\n",
       "    }\n",
       "</style>\n",
       "<table border=\"1\" class=\"dataframe\">\n",
       "  <thead>\n",
       "    <tr style=\"text-align: right;\">\n",
       "      <th></th>\n",
       "      <th>price_indextor</th>\n",
       "      <th>CND_USD_exchange</th>\n",
       "    </tr>\n",
       "    <tr>\n",
       "      <th>date</th>\n",
       "      <th></th>\n",
       "      <th></th>\n",
       "    </tr>\n",
       "  </thead>\n",
       "  <tbody>\n",
       "    <tr>\n",
       "      <th>2004-10-01</th>\n",
       "      <td>104.9</td>\n",
       "      <td>0.800</td>\n",
       "    </tr>\n",
       "    <tr>\n",
       "      <th>2004-11-01</th>\n",
       "      <td>105.2</td>\n",
       "      <td>0.835</td>\n",
       "    </tr>\n",
       "    <tr>\n",
       "      <th>2004-12-01</th>\n",
       "      <td>105.1</td>\n",
       "      <td>0.824</td>\n",
       "    </tr>\n",
       "    <tr>\n",
       "      <th>2005-01-01</th>\n",
       "      <td>105.0</td>\n",
       "      <td>0.826</td>\n",
       "    </tr>\n",
       "    <tr>\n",
       "      <th>2005-02-01</th>\n",
       "      <td>105.6</td>\n",
       "      <td>0.806</td>\n",
       "    </tr>\n",
       "  </tbody>\n",
       "</table>\n",
       "</div>"
      ],
      "text/plain": [
       "            price_indextor  CND_USD_exchange\n",
       "date                                        \n",
       "2004-10-01           104.9             0.800\n",
       "2004-11-01           105.2             0.835\n",
       "2004-12-01           105.1             0.824\n",
       "2005-01-01           105.0             0.826\n",
       "2005-02-01           105.6             0.806"
      ]
     },
     "execution_count": 48,
     "metadata": {},
     "output_type": "execute_result"
    }
   ],
   "source": [
    "X_train.head()"
   ]
  },
  {
   "cell_type": "code",
   "execution_count": 49,
   "id": "b41937a7-711f-4159-b737-ab1d1e53e78b",
   "metadata": {
    "tags": []
   },
   "outputs": [],
   "source": [
    "from sklearn.preprocessing import StandardScaler\n",
    "##########Andrew to look at this line of code#################\n",
    "# Scaling the numeric columns\n",
    "data_scaled = StandardScaler().fit_transform(X_train)\n",
    "\n"
   ]
  },
  {
   "cell_type": "code",
   "execution_count": 50,
   "id": "fdd20aac-50c3-4257-99ef-8e6441526da0",
   "metadata": {},
   "outputs": [
    {
     "data": {
      "text/html": [
       "<div>\n",
       "<style scoped>\n",
       "    .dataframe tbody tr th:only-of-type {\n",
       "        vertical-align: middle;\n",
       "    }\n",
       "\n",
       "    .dataframe tbody tr th {\n",
       "        vertical-align: top;\n",
       "    }\n",
       "\n",
       "    .dataframe thead th {\n",
       "        text-align: right;\n",
       "    }\n",
       "</style>\n",
       "<table border=\"1\" class=\"dataframe\">\n",
       "  <thead>\n",
       "    <tr style=\"text-align: right;\">\n",
       "      <th></th>\n",
       "      <th>price_indextor</th>\n",
       "      <th>canadian_prime_rate</th>\n",
       "    </tr>\n",
       "  </thead>\n",
       "  <tbody>\n",
       "    <tr>\n",
       "      <th>0</th>\n",
       "      <td>-1.564272</td>\n",
       "      <td>-0.604191</td>\n",
       "    </tr>\n",
       "    <tr>\n",
       "      <th>1</th>\n",
       "      <td>-1.541762</td>\n",
       "      <td>-0.243751</td>\n",
       "    </tr>\n",
       "    <tr>\n",
       "      <th>2</th>\n",
       "      <td>-1.549265</td>\n",
       "      <td>-0.357032</td>\n",
       "    </tr>\n",
       "    <tr>\n",
       "      <th>3</th>\n",
       "      <td>-1.556769</td>\n",
       "      <td>-0.336436</td>\n",
       "    </tr>\n",
       "    <tr>\n",
       "      <th>4</th>\n",
       "      <td>-1.511747</td>\n",
       "      <td>-0.542402</td>\n",
       "    </tr>\n",
       "  </tbody>\n",
       "</table>\n",
       "</div>"
      ],
      "text/plain": [
       "   price_indextor  canadian_prime_rate\n",
       "0       -1.564272            -0.604191\n",
       "1       -1.541762            -0.243751\n",
       "2       -1.549265            -0.357032\n",
       "3       -1.556769            -0.336436\n",
       "4       -1.511747            -0.542402"
      ]
     },
     "execution_count": 50,
     "metadata": {},
     "output_type": "execute_result"
    }
   ],
   "source": [
    "# Creating a DataFrame with with the scaled data  ###############someone to look at this line of code, add the proper columns###\n",
    "df_transformed = pd.DataFrame(data_scaled, columns=[\"price_indextor\",\"canadian_prime_rate\"])\n",
    "\n",
    "# Display sample data\n",
    "df_transformed.head()"
   ]
  },
  {
   "cell_type": "code",
   "execution_count": null,
   "id": "90a5102e-5493-4d02-a8bd-fcafd463978b",
   "metadata": {},
   "outputs": [],
   "source": []
  }
 ],
 "metadata": {
  "kernelspec": {
   "display_name": "Python 3 (ipykernel)",
   "language": "python",
   "name": "python3"
  },
  "language_info": {
   "codemirror_mode": {
    "name": "ipython",
    "version": 3
   },
   "file_extension": ".py",
   "mimetype": "text/x-python",
   "name": "python",
   "nbconvert_exporter": "python",
   "pygments_lexer": "ipython3",
   "version": "3.10.12"
  }
 },
 "nbformat": 4,
 "nbformat_minor": 5
}
